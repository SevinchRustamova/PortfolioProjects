{
  "nbformat": 4,
  "nbformat_minor": 0,
  "metadata": {
    "colab": {
      "provenance": []
    },
    "kernelspec": {
      "name": "python3",
      "display_name": "Python 3"
    },
    "language_info": {
      "name": "python"
    }
  },
  "cells": [
    {
      "cell_type": "code",
      "execution_count": 2,
      "metadata": {
        "id": "2vyyMVpGaDRs"
      },
      "outputs": [],
      "source": [
        "# This project is done for the 'Data analysis with Python' course\n",
        "\n",
        "import pandas as pd"
      ]
    },
    {
      "cell_type": "code",
      "source": [
        "df=pd.read_csv('/content/adult.data.csv')\n",
        "print(df)"
      ],
      "metadata": {
        "colab": {
          "base_uri": "https://localhost:8080/"
        },
        "id": "Cp6Z52kVab4z",
        "outputId": "ed37b33b-1b40-44b7-8ade-a6253456d894"
      },
      "execution_count": 5,
      "outputs": [
        {
          "output_type": "stream",
          "name": "stdout",
          "text": [
            "       age         workclass  fnlwgt   education  education-num  \\\n",
            "0       39         State-gov   77516   Bachelors             13   \n",
            "1       50  Self-emp-not-inc   83311   Bachelors             13   \n",
            "2       38           Private  215646     HS-grad              9   \n",
            "3       53           Private  234721        11th              7   \n",
            "4       28           Private  338409   Bachelors             13   \n",
            "...    ...               ...     ...         ...            ...   \n",
            "32556   27           Private  257302  Assoc-acdm             12   \n",
            "32557   40           Private  154374     HS-grad              9   \n",
            "32558   58           Private  151910     HS-grad              9   \n",
            "32559   22           Private  201490     HS-grad              9   \n",
            "32560   52      Self-emp-inc  287927     HS-grad              9   \n",
            "\n",
            "           marital-status         occupation   relationship   race     sex  \\\n",
            "0           Never-married       Adm-clerical  Not-in-family  White    Male   \n",
            "1      Married-civ-spouse    Exec-managerial        Husband  White    Male   \n",
            "2                Divorced  Handlers-cleaners  Not-in-family  White    Male   \n",
            "3      Married-civ-spouse  Handlers-cleaners        Husband  Black    Male   \n",
            "4      Married-civ-spouse     Prof-specialty           Wife  Black  Female   \n",
            "...                   ...                ...            ...    ...     ...   \n",
            "32556  Married-civ-spouse       Tech-support           Wife  White  Female   \n",
            "32557  Married-civ-spouse  Machine-op-inspct        Husband  White    Male   \n",
            "32558             Widowed       Adm-clerical      Unmarried  White  Female   \n",
            "32559       Never-married       Adm-clerical      Own-child  White    Male   \n",
            "32560  Married-civ-spouse    Exec-managerial           Wife  White  Female   \n",
            "\n",
            "       capital-gain  capital-loss  hours-per-week native-country salary  \n",
            "0              2174             0              40  United-States  <=50K  \n",
            "1                 0             0              13  United-States  <=50K  \n",
            "2                 0             0              40  United-States  <=50K  \n",
            "3                 0             0              40  United-States  <=50K  \n",
            "4                 0             0              40           Cuba  <=50K  \n",
            "...             ...           ...             ...            ...    ...  \n",
            "32556             0             0              38  United-States  <=50K  \n",
            "32557             0             0              40  United-States   >50K  \n",
            "32558             0             0              40  United-States  <=50K  \n",
            "32559             0             0              20  United-States  <=50K  \n",
            "32560         15024             0              40  United-States   >50K  \n",
            "\n",
            "[32561 rows x 15 columns]\n"
          ]
        }
      ]
    },
    {
      "cell_type": "code",
      "source": [
        "#How many of each race are represented in dataset?\n",
        "race_count = df.race.value_counts().tolist()\n",
        "print(race_count)\n"
      ],
      "metadata": {
        "colab": {
          "base_uri": "https://localhost:8080/"
        },
        "id": "BP7vsRSVa164",
        "outputId": "e836b71f-7021-4c76-dd66-7d4b8a59f797"
      },
      "execution_count": 6,
      "outputs": [
        {
          "output_type": "stream",
          "name": "stdout",
          "text": [
            "[27816, 3124, 1039, 311, 271]\n"
          ]
        }
      ]
    },
    {
      "cell_type": "code",
      "source": [
        "# What is the average age of men?\n",
        "average_age_men=round(df[df.sex=='Male'].age.mean())\n",
        "print(average_age_men)"
      ],
      "metadata": {
        "colab": {
          "base_uri": "https://localhost:8080/"
        },
        "id": "xUXdgxj1een8",
        "outputId": "6a91e1c0-3ee1-4c26-e55d-54171c02896d"
      },
      "execution_count": 7,
      "outputs": [
        {
          "output_type": "stream",
          "name": "stdout",
          "text": [
            "39\n"
          ]
        }
      ]
    },
    {
      "cell_type": "code",
      "source": [
        " # What is the percentage of people who have a Bachelor's degree?\n",
        "percentage_bachelors = round((df[df.education==\"Bachelors\"].count()/df.shape[0]) *100,1)\n",
        "print(percentage_bachelors)"
      ],
      "metadata": {
        "colab": {
          "base_uri": "https://localhost:8080/"
        },
        "id": "B4ToWXgrhQBT",
        "outputId": "75bfa885-1334-4985-e5e2-38a0c98e9f44"
      },
      "execution_count": 8,
      "outputs": [
        {
          "output_type": "stream",
          "name": "stdout",
          "text": [
            "age               16.4\n",
            "workclass         16.4\n",
            "fnlwgt            16.4\n",
            "education         16.4\n",
            "education-num     16.4\n",
            "marital-status    16.4\n",
            "occupation        16.4\n",
            "relationship      16.4\n",
            "race              16.4\n",
            "sex               16.4\n",
            "capital-gain      16.4\n",
            "capital-loss      16.4\n",
            "hours-per-week    16.4\n",
            "native-country    16.4\n",
            "salary            16.4\n",
            "dtype: float64\n"
          ]
        }
      ]
    },
    {
      "cell_type": "code",
      "source": [
        "# What percentage of people with advanced education (`Bachelors`, `Masters`, or `Doctorate`) make more than 50K?\n",
        "# What percentage of people without advanced education make more than 50K?\n",
        "q1 = df['education'].isin(['Bachelors', 'Masters', 'Doctorate'])\n",
        "q2 = df['salary'] == '>50K'\n",
        "\n",
        "higher_education_rich = round((q1 & q2).sum() / q1.sum() * 100, 1)\n",
        "lower_education_rich = round((~q1 & q2).sum() / (~q1).sum() * 100, 1)\n",
        "print(higher_education_rich)\n",
        "print(lower_education_rich)"
      ],
      "metadata": {
        "colab": {
          "base_uri": "https://localhost:8080/"
        },
        "id": "FPGj6IB6JgVX",
        "outputId": "1831a4c9-c82d-4282-fd50-e6f66cc6567d"
      },
      "execution_count": 10,
      "outputs": [
        {
          "output_type": "stream",
          "name": "stdout",
          "text": [
            "46.5\n",
            "17.4\n"
          ]
        }
      ]
    },
    {
      "cell_type": "code",
      "source": [
        "# What is the minimum number of hours a person works per week (hours-per-week feature)?\n",
        "min_work_hours = df['hours-per-week'].min()\n",
        "print(min_work_hours)"
      ],
      "metadata": {
        "colab": {
          "base_uri": "https://localhost:8080/"
        },
        "id": "XakAsDaNA7Ne",
        "outputId": "c57307c3-6ede-4296-d9af-71556ce340c1"
      },
      "execution_count": 11,
      "outputs": [
        {
          "output_type": "stream",
          "name": "stdout",
          "text": [
            "1\n"
          ]
        }
      ]
    },
    {
      "cell_type": "code",
      "source": [
        "# What percentage of the people who work the minimum number of hours per week have a salary of >50K?\n",
        "q1 = df['hours-per-week'] == min_work_hours\n",
        "rich_percentage = round((q1 & q2).sum() / q1.sum() * 100, 1)\n",
        "print(rich_percentage)"
      ],
      "metadata": {
        "colab": {
          "base_uri": "https://localhost:8080/"
        },
        "id": "CbKnjSiOGEvh",
        "outputId": "4b11853f-540e-41f1-ac3d-0f91c393f7d8"
      },
      "execution_count": 12,
      "outputs": [
        {
          "output_type": "stream",
          "name": "stdout",
          "text": [
            "10.0\n"
          ]
        }
      ]
    },
    {
      "cell_type": "code",
      "source": [
        " # What country has the highest percentage of people that earn >50K?\n",
        "p = (df[q2]['native-country'].value_counts() \\\n",
        "                                / df['native-country'].value_counts() * 100).sort_values(ascending=False)\n",
        "highest_earning_country = p.index[0]\n",
        "highest_earning_country_percentage = round(p.iloc[0], 1)\n",
        "print(highest_earning_country)\n",
        "print(highest_earning_country_percentage)"
      ],
      "metadata": {
        "colab": {
          "base_uri": "https://localhost:8080/"
        },
        "id": "JAqh8JCTITc5",
        "outputId": "ed59bc8c-a28c-43af-c0ba-7f0501f6d10c"
      },
      "execution_count": 16,
      "outputs": [
        {
          "output_type": "stream",
          "name": "stdout",
          "text": [
            "Iran\n",
            "41.9\n"
          ]
        }
      ]
    },
    {
      "cell_type": "code",
      "source": [
        "# Identify the most popular occupation for those who earn >50K in India.\n",
        "top_IN_occupation = df[(df['native-country'] == 'India') & q2] \\\n",
        "                          ['occupation'].value_counts().index[0]\n",
        "print(top_IN_occupation)"
      ],
      "metadata": {
        "id": "lMmmGPgTJARx",
        "colab": {
          "base_uri": "https://localhost:8080/"
        },
        "outputId": "d195fc6e-409e-441b-b639-f05794a8894f"
      },
      "execution_count": 13,
      "outputs": [
        {
          "output_type": "stream",
          "name": "stdout",
          "text": [
            "Prof-specialty\n"
          ]
        }
      ]
    }
  ]
}